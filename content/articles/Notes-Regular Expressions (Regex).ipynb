{
 "cells": [
  {
   "cell_type": "markdown",
   "metadata": {
    "slideshow": {
     "slide_type": "-"
    }
   },
   "source": [
    "###Preface\n",
    "\n",
    "Recently, I was learning the **Chapter 7: Data Wrangling:Clean, Transform, Merge, Reshape** from *Python for data analysis* by [Wes McKinney](http://wesmckinney.com/blog/), the creator of *Pandas*. I find the part about **regular expression* particualrly interesting and might be useful for things lik web crawling. So I did a bit more in-depth learning on this topic and noted it down here.  Main sources are from [Google Python course](https://developers.google.com/edu/python/regular-expressions?hl=en) and [Python documentation-Regular Expression HOWTO](https://docs.python.org/2/howto/regex.html#using-regular-expressions).  \n",
    "\n",
    "BTW, they are now working on another project called [Ibis](http://www.ibis-project.org).Wathching!\n",
    "\n",
    "### \"Regex\" by definition\n",
    "\n",
    ">Regular Expression is a sequence of characters that define a search pattern, mainly for use in pattern matching,substitution and splitting. i.e. \"find and replace\"-like operations. / In Python, **re** module provides regular expression support.\n",
    "\n",
    "###Examples in *Python for data analysis*\n",
    "\n",
    "**Split** / seperate by defined delimiters\n"
   ]
  },
  {
   "cell_type": "code",
   "execution_count": 4,
   "metadata": {
    "collapsed": false
   },
   "outputs": [
    {
     "data": {
      "text/plain": [
       "['foo', 'bar', 'baz', 'qux']"
      ]
     },
     "execution_count": 4,
     "metadata": {},
     "output_type": "execute_result"
    }
   ],
   "source": [
    "import re \n",
    "text = \"foo bar\\t baz \\tqux\"\n",
    "re.split('\\s+', text) #\\s+ describes one or more whitespace"
   ]
  },
  {
   "cell_type": "markdown",
   "metadata": {},
   "source": [
    "Equivalent to: "
   ]
  },
  {
   "cell_type": "code",
   "execution_count": 9,
   "metadata": {
    "collapsed": false
   },
   "outputs": [
    {
     "data": {
      "text/plain": [
       "['foo', 'bar', 'baz', 'qux']"
      ]
     },
     "execution_count": 9,
     "metadata": {},
     "output_type": "execute_result"
    }
   ],
   "source": [
    "regex = re.compile('\\s+')  # recommended practice as the same parttern might apply to many strings\n",
    "regex.split(text)"
   ]
  },
  {
   "cell_type": "markdown",
   "metadata": {
    "collapsed": true
   },
   "source": [
    "Where,**Compile** is to obtain a regular expression, and then the split is called on the passed text"
   ]
  },
  {
   "cell_type": "code",
   "execution_count": 10,
   "metadata": {
    "collapsed": false
   },
   "outputs": [
    {
     "data": {
      "text/plain": [
       "[' ', '\\t ', ' \\t']"
      ]
     },
     "execution_count": 10,
     "metadata": {},
     "output_type": "execute_result"
    }
   ],
   "source": [
    "regex.findall(text)"
   ]
  },
  {
   "cell_type": "markdown",
   "metadata": {},
   "source": [
    "**findall** returns a list of all patterns matching the regex."
   ]
  },
  {
   "cell_type": "code",
   "execution_count": 12,
   "metadata": {
    "collapsed": false
   },
   "outputs": [
    {
     "data": {
      "text/plain": [
       "['dave@google.com', 'steve@gmail.com', 'rob@gmail.com', 'ryan@yahoo.com']"
      ]
     },
     "execution_count": 12,
     "metadata": {},
     "output_type": "execute_result"
    }
   ],
   "source": [
    "# findall, search , match,\n",
    "text = \"\"\"Dave dave@google.com Steve steve@gmail.com\n",
    "Rob rob@gmail.com\n",
    "Ryan ryan@yahoo.com\n",
    "\"\"\"\n",
    "pattern = r'[A-Z0-9._%+-]+@[A-Z0-9.-]+\\.[A-Z]{2,4}'\n",
    "# According to Google python course: The 'r' at the start of the pattern string... \n",
    "# designates a python \"raw\" string which passes through backslashes without change . \n",
    "regex = re.compile(pattern, flags=re.IGNORECASE)  #IGNORECASE make the pattern case-insensitive\n",
    "regex.findall(text)"
   ]
  },
  {
   "cell_type": "code",
   "execution_count": 14,
   "metadata": {
    "collapsed": false
   },
   "outputs": [],
   "source": [
    "m = regex.search(text) # Scan string for the first match to pattern"
   ]
  },
  {
   "cell_type": "code",
   "execution_count": 15,
   "metadata": {
    "collapsed": false
   },
   "outputs": [
    {
     "data": {
      "text/plain": [
       "'dave@google.com'"
      ]
     },
     "execution_count": 15,
     "metadata": {},
     "output_type": "execute_result"
    }
   ],
   "source": [
    "text[m.start():m.end()]"
   ]
  },
  {
   "cell_type": "code",
   "execution_count": 17,
   "metadata": {
    "collapsed": false
   },
   "outputs": [
    {
     "name": "stdout",
     "output_type": "stream",
     "text": [
      "None\n"
     ]
    }
   ],
   "source": [
    "print regex.match(text) # Match pattern at start of string "
   ]
  },
  {
   "cell_type": "code",
   "execution_count": 18,
   "metadata": {
    "collapsed": false
   },
   "outputs": [
    {
     "name": "stdout",
     "output_type": "stream",
     "text": [
      "Dave REDACTED Steve REDACTED\n",
      "Rob REDACTED\n",
      "Ryan REDACTED\n",
      "\n"
     ]
    }
   ],
   "source": [
    "print regex.sub('REDACTED', text) #substitute the matched text with specified contents"
   ]
  },
  {
   "cell_type": "markdown",
   "metadata": {},
   "source": [
    "If we want to further segment the pattern for subsequent processing, we can play with the pattern specified. "
   ]
  },
  {
   "cell_type": "code",
   "execution_count": 48,
   "metadata": {
    "collapsed": false
   },
   "outputs": [
    {
     "data": {
      "text/plain": [
       "'wesm@bright.net'"
      ]
     },
     "execution_count": 48,
     "metadata": {},
     "output_type": "execute_result"
    }
   ],
   "source": [
    "pattern = r'([A-Z0-9._%+-]+)@([A-Z0-9.-]+)\\.([A-Z]{2,4})'\n",
    "regex = re.compile(pattern, flags=re.IGNORECASE)\n",
    "m = regex.match('wesm@bright.net')\n",
    "m.group() #return the whole group"
   ]
  },
  {
   "cell_type": "code",
   "execution_count": 50,
   "metadata": {
    "collapsed": false
   },
   "outputs": [
    {
     "data": {
      "text/plain": [
       "('wesm', 'bright', 'net')"
      ]
     },
     "execution_count": 50,
     "metadata": {},
     "output_type": "execute_result"
    }
   ],
   "source": [
    "m.groups() #return the seperated groups"
   ]
  },
  {
   "cell_type": "code",
   "execution_count": 52,
   "metadata": {
    "collapsed": false
   },
   "outputs": [
    {
     "data": {
      "text/plain": [
       "'wesm'"
      ]
     },
     "execution_count": 52,
     "metadata": {},
     "output_type": "execute_result"
    }
   ],
   "source": [
    "m.group(1) #return specified subgroup"
   ]
  },
  {
   "cell_type": "code",
   "execution_count": 20,
   "metadata": {
    "collapsed": false
   },
   "outputs": [
    {
     "data": {
      "text/plain": [
       "[('dave', 'google', 'com'),\n",
       " ('steve', 'gmail', 'com'),\n",
       " ('rob', 'gmail', 'com'),\n",
       " ('ryan', 'yahoo', 'com')]"
      ]
     },
     "execution_count": 20,
     "metadata": {},
     "output_type": "execute_result"
    }
   ],
   "source": [
    "regex.findall(text)"
   ]
  },
  {
   "cell_type": "code",
   "execution_count": 21,
   "metadata": {
    "collapsed": false
   },
   "outputs": [
    {
     "name": "stdout",
     "output_type": "stream",
     "text": [
      "Dave Username: dave, Domain: google, Suffix: com Steve Username: steve, Domain: gmail, Suffix: com\n",
      "Rob Username: rob, Domain: gmail, Suffix: com\n",
      "Ryan Username: ryan, Domain: yahoo, Suffix: com\n",
      "\n"
     ]
    }
   ],
   "source": [
    "print regex.sub(r'Username: \\1, Domain: \\2, Suffix: \\3', text)"
   ]
  },
  {
   "cell_type": "markdown",
   "metadata": {},
   "source": [
    "Further, we can produce a handy dict by carefully signing the pattern:"
   ]
  },
  {
   "cell_type": "code",
   "execution_count": 22,
   "metadata": {
    "collapsed": false
   },
   "outputs": [
    {
     "data": {
      "text/plain": [
       "{'domain': 'bright', 'suffix': 'net', 'username': 'wesm'}"
      ]
     },
     "execution_count": 22,
     "metadata": {},
     "output_type": "execute_result"
    }
   ],
   "source": [
    "regex = re.compile(r\"\"\"\n",
    "(?P<username>[A-Z0-9._%+-]+)\n",
    "@\n",
    "(?P<domain>[A-Z0-9.-]+)\n",
    "\\.\n",
    "(?P<suffix>[A-Z]{2,4})\"\"\", flags=re.IGNORECASE|re.VERBOSE)\n",
    "\n",
    "m = regex.match('wesm@bright.net')\n",
    "m.groupdict()"
   ]
  },
  {
   "cell_type": "markdown",
   "metadata": {},
   "source": [
    "A summary of the methods involved in regex:\n",
    "<a data-flickr-embed=\"true\"  href=\"https://www.flickr.com/photos/108107823@N04/21662922381/in/album-72157659008201065/\" title=\"regex methods\"><img src=\"https://farm6.staticflickr.com/5717/21662922381_d10971bddf_z.jpg\" width=\"563\" height=\"224\" alt=\"regex methods\"></a><script async src=\"//embedr.flickr.com/assets/client-code.js\" charset=\"utf-8\"></script>"
   ]
  },
  {
   "cell_type": "markdown",
   "metadata": {},
   "source": [
    "### Google Python Course"
   ]
  },
  {
   "cell_type": "markdown",
   "metadata": {},
   "source": [
    "Regex in action: "
   ]
  },
  {
   "cell_type": "code",
   "execution_count": 24,
   "metadata": {
    "collapsed": false
   },
   "outputs": [
    {
     "name": "stdout",
     "output_type": "stream",
     "text": [
      "found word:cat\n"
     ]
    }
   ],
   "source": [
    "str = 'an example word:cat!!'\n",
    "match = re.search(r'word:\\w\\w\\w', str) \n",
    "# If-statement after search() tests if it succeeded\n",
    "if match:                      \n",
    "    print 'found', match.group() ## 'found word:cat'\n",
    "else:\n",
    "    print 'did not find' "
   ]
  },
  {
   "cell_type": "markdown",
   "metadata": {},
   "source": [
    "####Basic Pattern Elements\n",
    "- ordinary characters: a-z, A-Z,0-9,<...etc;\n",
    "- meta-characters: ^ $ * + ? { [ ] \\ | ( );\n",
    "\n",
    "    -  ^ = start, $ = end : match the start or end of the string;\n",
    "    -  \\ : inhibit the \"specialness\" of a character. So, for example, use \\. to match a period or \\\\ to match a slash. \n",
    "    -  [ ]: specify a character class. Metacharacters are not active inside classes,e.g.[akm$] will match any of the characters 'a', 'k', 'm', or '$';\n",
    "  \n",
    "- . (a period): matches any single character except newline '\\n';\n",
    "- \\w (lowercase w): matches a \"word\" character: a **letter** or **digit** or **underbar** [a-zA-Z0-9_].\n",
    "- \\W (upper case W): matches any non-word character.\n",
    "- \\b : *boundary* between word and non-word\n",
    "- \\s(lowercase s): matches a single whitespace character -- space, newline, return, tab, form [ \\n\\r\\t\\f].\n",
    "- \\S(upper case S): matches any non-whitespace character,equivalent to the class [^ \\t\\n\\r\\f\\v].\n",
    "- \\s+: matches one or more whitespace\n",
    "- \\t, \\n, \\r : tab, newline, return\n",
    "- \\d : decimal digit [0-9] \n",
    "- \\D: Matches any non-digit character; this is equivalent to the class [^0-9]\n",
    "\n",
    "**Repetition**\n",
    ">\n",
    "    + : 1 or more occurrences of the pattern to its left;\n",
    "    * : 0 or more occurrences of the pattern to its left;\n",
    "    ? : match 0 or 1 occurrences of the pattern to its left.\n",
    "  \n",
    "**Square Brackets**\n",
    "Example: pattern = r'([A-Z0-9._%+-]+)@([A-Z0-9.-]+)\\.([A-Z]{2,4})'\n",
    "It indicate a set of chars, so [abc] matches 'a' or 'b' or 'c'. The codes \\w, \\s etc. work inside square brackets too with the one exception that dot (.) just means a literal dot. \n",
    "\n",
    "**Options**\n",
    "\n",
    "- IGNORECASE: ignore upper/lowercase differences for matching;\n",
    "\n",
    "- DOTALL: allow dot (.) to match newline;\n",
    "\n",
    "- MULTILINE: Within a string made of many lines, allow ^ and $ to match the start and end of each line. Normally ^/$ would just match the start and end of the whole string.\n",
    "\n",
    "**Methods**\n",
    "\n",
    "Methods       | Functions\n",
    "------------- | -------------\n",
    "group()       | Return the string matched by the RE\n",
    "start()       | Return the starting position of the match\n",
    "end()         | Return the ending position of the match\n",
    "span()        | Return a tuple containing the (start, end) positions of the match\n",
    "\n",
    "` f = open('filename.txt', 'r')\n",
    "\n",
    "` strings = re.findall(r'some pattern', f.read())\n",
    "//f.read() returns the whole text of a file in a single string\n",
    "\n",
    "**Demo:**"
   ]
  },
  {
   "cell_type": "code",
   "execution_count": 29,
   "metadata": {
    "collapsed": false
   },
   "outputs": [
    {
     "data": {
      "text/plain": [
       "'ii2g'"
      ]
     },
     "execution_count": 29,
     "metadata": {},
     "output_type": "execute_result"
    }
   ],
   "source": [
    "match = re.search(r'.\\w\\dg', 'pii2g') \n",
    "match.group()    "
   ]
  },
  {
   "cell_type": "code",
   "execution_count": 32,
   "metadata": {
    "collapsed": false
   },
   "outputs": [
    {
     "data": {
      "text/plain": [
       "'ii'"
      ]
     },
     "execution_count": 32,
     "metadata": {},
     "output_type": "execute_result"
    }
   ],
   "source": [
    "match = re.search(r'i+', 'piigiiii')\n",
    "match.group()"
   ]
  },
  {
   "cell_type": "code",
   "execution_count": 34,
   "metadata": {
    "collapsed": false
   },
   "outputs": [
    {
     "data": {
      "text/plain": [
       "'1 2   3'"
      ]
     },
     "execution_count": 34,
     "metadata": {},
     "output_type": "execute_result"
    }
   ],
   "source": [
    "#\\s* = zero or more whitespace chars\n",
    "match = re.search(r'\\d\\s*\\d\\s*\\d', 'xx1 2   3xx')\n",
    "match.group()"
   ]
  },
  {
   "cell_type": "code",
   "execution_count": 45,
   "metadata": {
    "collapsed": false
   },
   "outputs": [],
   "source": [
    "# ^ = matches the start of string\n",
    "match = re.search(r'^b\\w+', 'foobar') #Match == NONE"
   ]
  },
  {
   "cell_type": "code",
   "execution_count": 55,
   "metadata": {
    "collapsed": false
   },
   "outputs": [
    {
     "data": {
      "text/plain": [
       "' <b>foo</b> and <i>so on</i>'"
      ]
     },
     "execution_count": 55,
     "metadata": {},
     "output_type": "execute_result"
    }
   ],
   "source": [
    "match = re.search(r'.*',' <b>foo</b> and <i>so on</i>')  # .* will go as far as it can (greedy)\n",
    "match.group()"
   ]
  },
  {
   "cell_type": "code",
   "execution_count": 60,
   "metadata": {
    "collapsed": false
   },
   "outputs": [
    {
     "data": {
      "text/plain": [
       "'<b>'"
      ]
     },
     "execution_count": 60,
     "metadata": {},
     "output_type": "execute_result"
    }
   ],
   "source": [
    "match = re.search(r'<.*?>',' <b>foo</b> and <i>so on</i>')# .*? will stop after find the first match\n",
    "match.group()"
   ]
  },
  {
   "cell_type": "markdown",
   "metadata": {},
   "source": [
    "###Exercise -U.S. Baby Names\n",
    "\n",
    "The files are downloaded from [this page](https://developers.google.com/edu/python/exercises/baby-names).\n",
    "Objective: \n",
    "> Give a file name for xxxx.html, returns a list starting with the year string\n",
    "  followed by the name-rank strings in alphabetical order.\n",
    "  \n",
    "The name infor in the html has the following pattern:\n",
    "e.g.\n",
    "```\n",
    "<tr align=\"right\"><td>1</td><td>Michael</td><td>Jessica</td>\n",
    "```"
   ]
  },
  {
   "cell_type": "code",
   "execution_count": 83,
   "metadata": {
    "collapsed": false
   },
   "outputs": [
    {
     "name": "stdout",
     "output_type": "stream",
     "text": [
      "2008\n",
      "Aaden 343\n",
      "Aaliyah 77\n",
      "Aarav 921\n",
      "Aaron 50\n",
      "Abagail 874\n",
      "Abbey 822\n",
      "Abbie 737\n",
      "Abbigail 508\n",
      "Abby 259\n"
     ]
    }
   ],
   "source": [
    "import sys\n",
    "import re\n",
    "\n",
    "def extract_names(filename):\n",
    "    names = []\n",
    "    f = open(filename,'rU') # filename are the html files containing names and rank \n",
    "    text = f.read()\n",
    "    \n",
    "    #extract year\n",
    "    year_match = re.search(r'Popularity\\sin\\s(\\d\\d\\d\\d)', text)\n",
    "    if not year_match:\n",
    "        sys.stderr.write('Couldn\\'t find the year!\\n')\n",
    "        sys.exit(1)\n",
    "    year = year_match.group(1)\n",
    "    names.append(year)\n",
    "    \n",
    "    #extract rank, boy name and female name \n",
    "    tuples = re.findall(r'<td>(\\d+)</td><td>(\\w+)</td>\\<td>(\\w+)</td>', text) \n",
    "    \n",
    "    #store the names in a dict where key is the name, value is the rank.\n",
    "    #(if the name is already in there, don't add it, since this new rank will be bigger than the previous rank).\n",
    "    names_to_rank =  {}\n",
    "    for rank_tuple in tuples:\n",
    "        (rank, boyname, girlname) = rank_tuple  # unpack the tuple into 3 vars\n",
    "        if boyname not in names_to_rank:\n",
    "            names_to_rank[boyname] = rank\n",
    "        if girlname not in names_to_rank:\n",
    "            names_to_rank[girlname] = rank\n",
    "    \n",
    "    sorted_names = sorted(names_to_rank.keys())\n",
    "    # build the required list \n",
    "    for name in sorted_names:\n",
    "        names.append(name + \" \" + names_to_rank[name])\n",
    "    return names[:10]\n",
    "\n",
    "def main():\n",
    "    args = sys.argv[1:]\n",
    "\n",
    "    if not args:\n",
    "        print 'usage: [--summaryfile] file [file ...]'\n",
    "        sys.exit(1)\n",
    "    summary = False\n",
    "    if args[0] == '--summaryfile':\n",
    "        summary = True\n",
    "        del args[0]\n",
    "\n",
    "    for filename in args:\n",
    "        names = extract_names('/Users/jin/Python/Google-Python/google-python-exercises/babynames/baby2008.html')\n",
    "\n",
    "    text = '\\n'.join(names)\n",
    "  \n",
    "    if summary:\n",
    "        outf = open(filename + '.summary', 'w')\n",
    "        outf.write(text + '\\n')\n",
    "        outf.close()\n",
    "    else:\n",
    "        print text\n",
    "\n",
    "if __name__ == '__main__':\n",
    "    main()"
   ]
  },
  {
   "cell_type": "markdown",
   "metadata": {},
   "source": [
    "!!Will come back to this example for more operations again!"
   ]
  }
 ],
 "metadata": {
  "kernelspec": {
   "display_name": "Python 2",
   "language": "python",
   "name": "python2"
  },
  "language_info": {
   "codemirror_mode": {
    "name": "ipython",
    "version": 2
   },
   "file_extension": ".py",
   "mimetype": "text/x-python",
   "name": "python",
   "nbconvert_exporter": "python",
   "pygments_lexer": "ipython2",
   "version": "2.7.10"
  }
 },
 "nbformat": 4,
 "nbformat_minor": 0
}
